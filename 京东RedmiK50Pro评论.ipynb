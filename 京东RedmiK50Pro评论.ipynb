{
 "cells": [
  {
   "cell_type": "markdown",
   "metadata": {},
   "source": [
    "## 目录 \n",
    "* 一、爬虫\n",
    "* 二、统计分析词云\n",
    "* 三、情感分析"
   ]
  },
  {
   "cell_type": "markdown",
   "metadata": {},
   "source": [
    "#### 一、数据获取(爬虫)"
   ]
  },
  {
   "cell_type": "code",
   "execution_count": 23,
   "metadata": {},
   "outputs": [],
   "source": [
    "import random\n",
    "import time\n",
    "import requests\n",
    "import xlwt\n",
    "import pandas as pd"
   ]
  },
  {
   "cell_type": "code",
   "execution_count": 25,
   "metadata": {},
   "outputs": [
    {
     "name": "stdout",
     "output_type": "stream",
     "text": [
      "正在爬取第0页,url为:https://club.jd.com/comment/productPageComments.action?productId=100020076099&score=0&sortType=5&page=0&pageSize=10&isShadowSku=0&rid=0&fold=1\n",
      "第0页爬取成功\n",
      "正在爬取第1页,url为:https://club.jd.com/comment/productPageComments.action?productId=100020076099&score=0&sortType=5&page=1&pageSize=10&isShadowSku=0&rid=0&fold=1\n",
      "第1页爬取成功\n",
      "正在爬取第2页,url为:https://club.jd.com/comment/productPageComments.action?productId=100020076099&score=0&sortType=5&page=2&pageSize=10&isShadowSku=0&rid=0&fold=1\n",
      "第2页爬取成功\n",
      "正在爬取第3页,url为:https://club.jd.com/comment/productPageComments.action?productId=100020076099&score=0&sortType=5&page=3&pageSize=10&isShadowSku=0&rid=0&fold=1\n",
      "第3页爬取成功\n",
      "正在爬取第4页,url为:https://club.jd.com/comment/productPageComments.action?productId=100020076099&score=0&sortType=5&page=4&pageSize=10&isShadowSku=0&rid=0&fold=1\n",
      "第4页爬取成功\n",
      "正在爬取第5页,url为:https://club.jd.com/comment/productPageComments.action?productId=100020076099&score=0&sortType=5&page=5&pageSize=10&isShadowSku=0&rid=0&fold=1\n",
      "第5页爬取成功\n",
      "正在爬取第6页,url为:https://club.jd.com/comment/productPageComments.action?productId=100020076099&score=0&sortType=5&page=6&pageSize=10&isShadowSku=0&rid=0&fold=1\n",
      "第6页爬取成功\n",
      "正在爬取第7页,url为:https://club.jd.com/comment/productPageComments.action?productId=100020076099&score=0&sortType=5&page=7&pageSize=10&isShadowSku=0&rid=0&fold=1\n",
      "第7页爬取成功\n",
      "正在爬取第8页,url为:https://club.jd.com/comment/productPageComments.action?productId=100020076099&score=0&sortType=5&page=8&pageSize=10&isShadowSku=0&rid=0&fold=1\n",
      "第8页爬取成功\n",
      "正在爬取第9页,url为:https://club.jd.com/comment/productPageComments.action?productId=100020076099&score=0&sortType=5&page=9&pageSize=10&isShadowSku=0&rid=0&fold=1\n",
      "第9页爬取成功\n",
      "正在爬取第10页,url为:https://club.jd.com/comment/productPageComments.action?productId=100020076099&score=0&sortType=5&page=10&pageSize=10&isShadowSku=0&rid=0&fold=1\n",
      "第10页爬取成功\n",
      "正在爬取第11页,url为:https://club.jd.com/comment/productPageComments.action?productId=100020076099&score=0&sortType=5&page=11&pageSize=10&isShadowSku=0&rid=0&fold=1\n",
      "第11页爬取成功\n",
      "正在爬取第12页,url为:https://club.jd.com/comment/productPageComments.action?productId=100020076099&score=0&sortType=5&page=12&pageSize=10&isShadowSku=0&rid=0&fold=1\n",
      "第12页爬取成功\n",
      "正在爬取第13页,url为:https://club.jd.com/comment/productPageComments.action?productId=100020076099&score=0&sortType=5&page=13&pageSize=10&isShadowSku=0&rid=0&fold=1\n",
      "第13页爬取成功\n",
      "正在爬取第14页,url为:https://club.jd.com/comment/productPageComments.action?productId=100020076099&score=0&sortType=5&page=14&pageSize=10&isShadowSku=0&rid=0&fold=1\n",
      "第14页爬取成功\n",
      "正在爬取第15页,url为:https://club.jd.com/comment/productPageComments.action?productId=100020076099&score=0&sortType=5&page=15&pageSize=10&isShadowSku=0&rid=0&fold=1\n",
      "第15页爬取成功\n",
      "正在爬取第16页,url为:https://club.jd.com/comment/productPageComments.action?productId=100020076099&score=0&sortType=5&page=16&pageSize=10&isShadowSku=0&rid=0&fold=1\n",
      "第16页爬取成功\n",
      "正在爬取第17页,url为:https://club.jd.com/comment/productPageComments.action?productId=100020076099&score=0&sortType=5&page=17&pageSize=10&isShadowSku=0&rid=0&fold=1\n",
      "第17页爬取成功\n",
      "正在爬取第18页,url为:https://club.jd.com/comment/productPageComments.action?productId=100020076099&score=0&sortType=5&page=18&pageSize=10&isShadowSku=0&rid=0&fold=1\n",
      "第18页爬取成功\n",
      "正在爬取第19页,url为:https://club.jd.com/comment/productPageComments.action?productId=100020076099&score=0&sortType=5&page=19&pageSize=10&isShadowSku=0&rid=0&fold=1\n",
      "第19页爬取成功\n",
      "正在爬取第20页,url为:https://club.jd.com/comment/productPageComments.action?productId=100020076099&score=0&sortType=5&page=20&pageSize=10&isShadowSku=0&rid=0&fold=1\n",
      "第20页爬取成功\n",
      "正在爬取第21页,url为:https://club.jd.com/comment/productPageComments.action?productId=100020076099&score=0&sortType=5&page=21&pageSize=10&isShadowSku=0&rid=0&fold=1\n",
      "第21页爬取成功\n",
      "正在爬取第22页,url为:https://club.jd.com/comment/productPageComments.action?productId=100020076099&score=0&sortType=5&page=22&pageSize=10&isShadowSku=0&rid=0&fold=1\n",
      "第22页爬取成功\n",
      "正在爬取第23页,url为:https://club.jd.com/comment/productPageComments.action?productId=100020076099&score=0&sortType=5&page=23&pageSize=10&isShadowSku=0&rid=0&fold=1\n",
      "第23页爬取成功\n",
      "正在爬取第24页,url为:https://club.jd.com/comment/productPageComments.action?productId=100020076099&score=0&sortType=5&page=24&pageSize=10&isShadowSku=0&rid=0&fold=1\n",
      "第24页爬取成功\n",
      "正在爬取第25页,url为:https://club.jd.com/comment/productPageComments.action?productId=100020076099&score=0&sortType=5&page=25&pageSize=10&isShadowSku=0&rid=0&fold=1\n",
      "第25页爬取成功\n",
      "正在爬取第26页,url为:https://club.jd.com/comment/productPageComments.action?productId=100020076099&score=0&sortType=5&page=26&pageSize=10&isShadowSku=0&rid=0&fold=1\n",
      "第26页爬取成功\n",
      "正在爬取第27页,url为:https://club.jd.com/comment/productPageComments.action?productId=100020076099&score=0&sortType=5&page=27&pageSize=10&isShadowSku=0&rid=0&fold=1\n",
      "第27页爬取成功\n",
      "正在爬取第28页,url为:https://club.jd.com/comment/productPageComments.action?productId=100020076099&score=0&sortType=5&page=28&pageSize=10&isShadowSku=0&rid=0&fold=1\n",
      "第28页爬取成功\n",
      "正在爬取第29页,url为:https://club.jd.com/comment/productPageComments.action?productId=100020076099&score=0&sortType=5&page=29&pageSize=10&isShadowSku=0&rid=0&fold=1\n",
      "第29页爬取成功\n",
      "正在爬取第30页,url为:https://club.jd.com/comment/productPageComments.action?productId=100020076099&score=0&sortType=5&page=30&pageSize=10&isShadowSku=0&rid=0&fold=1\n",
      "第30页爬取成功\n",
      "正在爬取第31页,url为:https://club.jd.com/comment/productPageComments.action?productId=100020076099&score=0&sortType=5&page=31&pageSize=10&isShadowSku=0&rid=0&fold=1\n",
      "第31页爬取成功\n",
      "正在爬取第32页,url为:https://club.jd.com/comment/productPageComments.action?productId=100020076099&score=0&sortType=5&page=32&pageSize=10&isShadowSku=0&rid=0&fold=1\n",
      "第32页爬取成功\n",
      "正在爬取第33页,url为:https://club.jd.com/comment/productPageComments.action?productId=100020076099&score=0&sortType=5&page=33&pageSize=10&isShadowSku=0&rid=0&fold=1\n",
      "第33页爬取成功\n",
      "正在爬取第34页,url为:https://club.jd.com/comment/productPageComments.action?productId=100020076099&score=0&sortType=5&page=34&pageSize=10&isShadowSku=0&rid=0&fold=1\n",
      "第34页爬取成功\n",
      "正在爬取第35页,url为:https://club.jd.com/comment/productPageComments.action?productId=100020076099&score=0&sortType=5&page=35&pageSize=10&isShadowSku=0&rid=0&fold=1\n",
      "第35页爬取成功\n",
      "正在爬取第36页,url为:https://club.jd.com/comment/productPageComments.action?productId=100020076099&score=0&sortType=5&page=36&pageSize=10&isShadowSku=0&rid=0&fold=1\n",
      "第36页爬取成功\n",
      "正在爬取第37页,url为:https://club.jd.com/comment/productPageComments.action?productId=100020076099&score=0&sortType=5&page=37&pageSize=10&isShadowSku=0&rid=0&fold=1\n",
      "第37页爬取成功\n",
      "正在爬取第38页,url为:https://club.jd.com/comment/productPageComments.action?productId=100020076099&score=0&sortType=5&page=38&pageSize=10&isShadowSku=0&rid=0&fold=1\n",
      "第38页爬取成功\n",
      "正在爬取第39页,url为:https://club.jd.com/comment/productPageComments.action?productId=100020076099&score=0&sortType=5&page=39&pageSize=10&isShadowSku=0&rid=0&fold=1\n",
      "第39页爬取成功\n",
      "正在爬取第40页,url为:https://club.jd.com/comment/productPageComments.action?productId=100020076099&score=0&sortType=5&page=40&pageSize=10&isShadowSku=0&rid=0&fold=1\n",
      "第40页爬取成功\n",
      "正在爬取第41页,url为:https://club.jd.com/comment/productPageComments.action?productId=100020076099&score=0&sortType=5&page=41&pageSize=10&isShadowSku=0&rid=0&fold=1\n",
      "第41页爬取成功\n",
      "正在爬取第42页,url为:https://club.jd.com/comment/productPageComments.action?productId=100020076099&score=0&sortType=5&page=42&pageSize=10&isShadowSku=0&rid=0&fold=1\n",
      "第42页爬取成功\n",
      "正在爬取第43页,url为:https://club.jd.com/comment/productPageComments.action?productId=100020076099&score=0&sortType=5&page=43&pageSize=10&isShadowSku=0&rid=0&fold=1\n",
      "第43页爬取成功\n",
      "正在爬取第44页,url为:https://club.jd.com/comment/productPageComments.action?productId=100020076099&score=0&sortType=5&page=44&pageSize=10&isShadowSku=0&rid=0&fold=1\n",
      "第44页爬取成功\n",
      "正在爬取第45页,url为:https://club.jd.com/comment/productPageComments.action?productId=100020076099&score=0&sortType=5&page=45&pageSize=10&isShadowSku=0&rid=0&fold=1\n",
      "第45页爬取成功\n",
      "正在爬取第46页,url为:https://club.jd.com/comment/productPageComments.action?productId=100020076099&score=0&sortType=5&page=46&pageSize=10&isShadowSku=0&rid=0&fold=1\n",
      "第46页爬取成功\n",
      "正在爬取第47页,url为:https://club.jd.com/comment/productPageComments.action?productId=100020076099&score=0&sortType=5&page=47&pageSize=10&isShadowSku=0&rid=0&fold=1\n",
      "第47页爬取成功\n",
      "正在爬取第48页,url为:https://club.jd.com/comment/productPageComments.action?productId=100020076099&score=0&sortType=5&page=48&pageSize=10&isShadowSku=0&rid=0&fold=1\n",
      "第48页爬取成功\n",
      "正在爬取第49页,url为:https://club.jd.com/comment/productPageComments.action?productId=100020076099&score=0&sortType=5&page=49&pageSize=10&isShadowSku=0&rid=0&fold=1\n",
      "第49页爬取成功\n",
      "正在爬取第50页,url为:https://club.jd.com/comment/productPageComments.action?productId=100020076099&score=0&sortType=5&page=50&pageSize=10&isShadowSku=0&rid=0&fold=1\n",
      "第50页爬取成功\n",
      "正在爬取第51页,url为:https://club.jd.com/comment/productPageComments.action?productId=100020076099&score=0&sortType=5&page=51&pageSize=10&isShadowSku=0&rid=0&fold=1\n",
      "第51页爬取成功\n",
      "正在爬取第52页,url为:https://club.jd.com/comment/productPageComments.action?productId=100020076099&score=0&sortType=5&page=52&pageSize=10&isShadowSku=0&rid=0&fold=1\n",
      "第52页爬取成功\n",
      "正在爬取第53页,url为:https://club.jd.com/comment/productPageComments.action?productId=100020076099&score=0&sortType=5&page=53&pageSize=10&isShadowSku=0&rid=0&fold=1\n",
      "第53页爬取成功\n",
      "正在爬取第54页,url为:https://club.jd.com/comment/productPageComments.action?productId=100020076099&score=0&sortType=5&page=54&pageSize=10&isShadowSku=0&rid=0&fold=1\n",
      "第54页爬取成功\n",
      "正在爬取第55页,url为:https://club.jd.com/comment/productPageComments.action?productId=100020076099&score=0&sortType=5&page=55&pageSize=10&isShadowSku=0&rid=0&fold=1\n",
      "第55页爬取成功\n",
      "正在爬取第56页,url为:https://club.jd.com/comment/productPageComments.action?productId=100020076099&score=0&sortType=5&page=56&pageSize=10&isShadowSku=0&rid=0&fold=1\n",
      "第56页爬取成功\n",
      "正在爬取第57页,url为:https://club.jd.com/comment/productPageComments.action?productId=100020076099&score=0&sortType=5&page=57&pageSize=10&isShadowSku=0&rid=0&fold=1\n",
      "第57页爬取成功\n",
      "正在爬取第58页,url为:https://club.jd.com/comment/productPageComments.action?productId=100020076099&score=0&sortType=5&page=58&pageSize=10&isShadowSku=0&rid=0&fold=1\n",
      "第58页爬取成功\n",
      "正在爬取第59页,url为:https://club.jd.com/comment/productPageComments.action?productId=100020076099&score=0&sortType=5&page=59&pageSize=10&isShadowSku=0&rid=0&fold=1\n",
      "第59页爬取成功\n",
      "正在爬取第60页,url为:https://club.jd.com/comment/productPageComments.action?productId=100020076099&score=0&sortType=5&page=60&pageSize=10&isShadowSku=0&rid=0&fold=1\n",
      "第60页爬取成功\n",
      "正在爬取第61页,url为:https://club.jd.com/comment/productPageComments.action?productId=100020076099&score=0&sortType=5&page=61&pageSize=10&isShadowSku=0&rid=0&fold=1\n",
      "第61页爬取成功\n",
      "正在爬取第62页,url为:https://club.jd.com/comment/productPageComments.action?productId=100020076099&score=0&sortType=5&page=62&pageSize=10&isShadowSku=0&rid=0&fold=1\n",
      "第62页爬取成功\n",
      "正在爬取第63页,url为:https://club.jd.com/comment/productPageComments.action?productId=100020076099&score=0&sortType=5&page=63&pageSize=10&isShadowSku=0&rid=0&fold=1\n",
      "第63页爬取成功\n",
      "正在爬取第64页,url为:https://club.jd.com/comment/productPageComments.action?productId=100020076099&score=0&sortType=5&page=64&pageSize=10&isShadowSku=0&rid=0&fold=1\n",
      "第64页爬取成功\n",
      "正在爬取第65页,url为:https://club.jd.com/comment/productPageComments.action?productId=100020076099&score=0&sortType=5&page=65&pageSize=10&isShadowSku=0&rid=0&fold=1\n",
      "第65页爬取成功\n",
      "正在爬取第66页,url为:https://club.jd.com/comment/productPageComments.action?productId=100020076099&score=0&sortType=5&page=66&pageSize=10&isShadowSku=0&rid=0&fold=1\n",
      "第66页爬取成功\n",
      "正在爬取第67页,url为:https://club.jd.com/comment/productPageComments.action?productId=100020076099&score=0&sortType=5&page=67&pageSize=10&isShadowSku=0&rid=0&fold=1\n",
      "第67页爬取成功\n",
      "正在爬取第68页,url为:https://club.jd.com/comment/productPageComments.action?productId=100020076099&score=0&sortType=5&page=68&pageSize=10&isShadowSku=0&rid=0&fold=1\n",
      "第68页爬取成功\n",
      "正在爬取第69页,url为:https://club.jd.com/comment/productPageComments.action?productId=100020076099&score=0&sortType=5&page=69&pageSize=10&isShadowSku=0&rid=0&fold=1\n",
      "第69页爬取成功\n",
      "正在爬取第70页,url为:https://club.jd.com/comment/productPageComments.action?productId=100020076099&score=0&sortType=5&page=70&pageSize=10&isShadowSku=0&rid=0&fold=1\n",
      "第70页爬取成功\n",
      "正在爬取第71页,url为:https://club.jd.com/comment/productPageComments.action?productId=100020076099&score=0&sortType=5&page=71&pageSize=10&isShadowSku=0&rid=0&fold=1\n",
      "第71页爬取成功\n",
      "正在爬取第72页,url为:https://club.jd.com/comment/productPageComments.action?productId=100020076099&score=0&sortType=5&page=72&pageSize=10&isShadowSku=0&rid=0&fold=1\n",
      "第72页爬取成功\n",
      "正在爬取第73页,url为:https://club.jd.com/comment/productPageComments.action?productId=100020076099&score=0&sortType=5&page=73&pageSize=10&isShadowSku=0&rid=0&fold=1\n",
      "第73页爬取成功\n",
      "正在爬取第74页,url为:https://club.jd.com/comment/productPageComments.action?productId=100020076099&score=0&sortType=5&page=74&pageSize=10&isShadowSku=0&rid=0&fold=1\n",
      "第74页爬取成功\n",
      "正在爬取第75页,url为:https://club.jd.com/comment/productPageComments.action?productId=100020076099&score=0&sortType=5&page=75&pageSize=10&isShadowSku=0&rid=0&fold=1\n",
      "第75页爬取成功\n",
      "正在爬取第76页,url为:https://club.jd.com/comment/productPageComments.action?productId=100020076099&score=0&sortType=5&page=76&pageSize=10&isShadowSku=0&rid=0&fold=1\n",
      "第76页爬取成功\n",
      "正在爬取第77页,url为:https://club.jd.com/comment/productPageComments.action?productId=100020076099&score=0&sortType=5&page=77&pageSize=10&isShadowSku=0&rid=0&fold=1\n",
      "第77页爬取成功\n",
      "正在爬取第78页,url为:https://club.jd.com/comment/productPageComments.action?productId=100020076099&score=0&sortType=5&page=78&pageSize=10&isShadowSku=0&rid=0&fold=1\n",
      "第78页爬取成功\n",
      "正在爬取第79页,url为:https://club.jd.com/comment/productPageComments.action?productId=100020076099&score=0&sortType=5&page=79&pageSize=10&isShadowSku=0&rid=0&fold=1\n",
      "第79页爬取成功\n",
      "正在爬取第80页,url为:https://club.jd.com/comment/productPageComments.action?productId=100020076099&score=0&sortType=5&page=80&pageSize=10&isShadowSku=0&rid=0&fold=1\n",
      "第80页爬取成功\n",
      "正在爬取第81页,url为:https://club.jd.com/comment/productPageComments.action?productId=100020076099&score=0&sortType=5&page=81&pageSize=10&isShadowSku=0&rid=0&fold=1\n",
      "第81页爬取成功\n",
      "正在爬取第82页,url为:https://club.jd.com/comment/productPageComments.action?productId=100020076099&score=0&sortType=5&page=82&pageSize=10&isShadowSku=0&rid=0&fold=1\n",
      "第82页爬取成功\n",
      "正在爬取第83页,url为:https://club.jd.com/comment/productPageComments.action?productId=100020076099&score=0&sortType=5&page=83&pageSize=10&isShadowSku=0&rid=0&fold=1\n",
      "第83页爬取成功\n",
      "正在爬取第84页,url为:https://club.jd.com/comment/productPageComments.action?productId=100020076099&score=0&sortType=5&page=84&pageSize=10&isShadowSku=0&rid=0&fold=1\n",
      "第84页爬取成功\n",
      "正在爬取第85页,url为:https://club.jd.com/comment/productPageComments.action?productId=100020076099&score=0&sortType=5&page=85&pageSize=10&isShadowSku=0&rid=0&fold=1\n",
      ".............第85页爬取失败\n",
      "正在爬取第86页,url为:https://club.jd.com/comment/productPageComments.action?productId=100020076099&score=0&sortType=5&page=86&pageSize=10&isShadowSku=0&rid=0&fold=1\n",
      "第86页爬取成功\n",
      "正在爬取第87页,url为:https://club.jd.com/comment/productPageComments.action?productId=100020076099&score=0&sortType=5&page=87&pageSize=10&isShadowSku=0&rid=0&fold=1\n",
      "第87页爬取成功\n",
      "正在爬取第88页,url为:https://club.jd.com/comment/productPageComments.action?productId=100020076099&score=0&sortType=5&page=88&pageSize=10&isShadowSku=0&rid=0&fold=1\n",
      "第88页爬取成功\n",
      "正在爬取第89页,url为:https://club.jd.com/comment/productPageComments.action?productId=100020076099&score=0&sortType=5&page=89&pageSize=10&isShadowSku=0&rid=0&fold=1\n",
      "第89页爬取成功\n"
     ]
    }
   ],
   "source": [
    "# 创建excel保存数据\n",
    "file = xlwt.Workbook(encoding='utf-8')\n",
    "sheet = file.add_sheet('data', cell_overwrite_ok=True)\n",
    "for i in range(90):  # for循环遍历，批量爬取评论信息\n",
    "        # 构造url，通过在网页不断点击下一页发现，url中只有page后数字随页数变化，批量遍历就是根据这个\n",
    "        # url去掉了callback部分，因为这部分内没有有用数据，并且不去掉后面转换为json格式会有问题\n",
    "    url = 'https://club.jd.com/comment/productPageComments.action?productId=100020076099&score=0&sortType=5&page=%s&pageSize=10&isShadowSku=0&rid=0&fold=1' % i\n",
    "    # 构造headers\n",
    "    headers = {\n",
    "        'user-agent': 'Mozilla/5.0 (Macintosh; Intel Mac OS X 10_15_7) AppleWebKit/537.36 (KHTML, like Gecko) Chrome/96.0.4664.110 Safari/537.36',\n",
    "        'referer': 'https://item.jd.com/100020076099.html',\n",
    "    }\n",
    "    response = requests.get(url, headers=headers).json()    # 字符串转换为json数据\n",
    "    data = response[\"comments\"] \n",
    "    # print(data)\n",
    "    print('正在爬取第%s页,url为:%s' %(i,url))    # print(data)\n",
    "    page = (i * 10)+1 # 这里是存储在excell中用到的，因为每爬取一个url会有10条评论，占excell 10列\n",
    "    if (data):\n",
    "        col = (\"用户ID\", \"评论内容\", \"手机型号\")\n",
    "        for a in range(0, 3):\n",
    "            sheet.write(0, a, col[a])  # 列名\n",
    "        for temp in data:\n",
    "            sheet.write(page, 0, temp['id'])  # id\n",
    "            sheet.write(page, 1, temp['content'])  # 评论\n",
    "            sheet.write(page, 2, temp['referenceName']) # 手机型号\n",
    "            page = page + 1\n",
    "        print('第%s页爬取成功' % i)\n",
    "    else:\n",
    "        print('.............第%s页爬取失败' % i)\n",
    "    file.save('Redmi1.xlsx')  # 保存到本地\n",
    "    time.sleep(random.random() * 5)  # 每循环一次，随机时间暂停再爬\n",
    "    data1 = pd.DataFrame(pd.read_excel('Redmi1.xlsx'))\n",
    "    Redmi_Comment1 = data1.to_csv('Redmi_Comment1.csv',encoding='gbk')"
   ]
  },
  {
   "cell_type": "code",
   "execution_count": 30,
   "metadata": {},
   "outputs": [
    {
     "name": "stdout",
     "output_type": "stream",
     "text": [
      "正在爬取第0页,url为:https://club.jd.com/comment/productPageComments.action?productId=10046783867803&score=0&sortType=5&page=0&pageSize=10&isShadowSku=0&rid=0&fold=1\n",
      "第0页爬取成功\n",
      "正在爬取第1页,url为:https://club.jd.com/comment/productPageComments.action?productId=10046783867803&score=0&sortType=5&page=1&pageSize=10&isShadowSku=0&rid=0&fold=1\n",
      "第1页爬取成功\n",
      "正在爬取第2页,url为:https://club.jd.com/comment/productPageComments.action?productId=10046783867803&score=0&sortType=5&page=2&pageSize=10&isShadowSku=0&rid=0&fold=1\n",
      "第2页爬取成功\n",
      "正在爬取第3页,url为:https://club.jd.com/comment/productPageComments.action?productId=10046783867803&score=0&sortType=5&page=3&pageSize=10&isShadowSku=0&rid=0&fold=1\n",
      "第3页爬取成功\n",
      "正在爬取第4页,url为:https://club.jd.com/comment/productPageComments.action?productId=10046783867803&score=0&sortType=5&page=4&pageSize=10&isShadowSku=0&rid=0&fold=1\n",
      "第4页爬取成功\n",
      "正在爬取第5页,url为:https://club.jd.com/comment/productPageComments.action?productId=10046783867803&score=0&sortType=5&page=5&pageSize=10&isShadowSku=0&rid=0&fold=1\n",
      "第5页爬取成功\n",
      "正在爬取第6页,url为:https://club.jd.com/comment/productPageComments.action?productId=10046783867803&score=0&sortType=5&page=6&pageSize=10&isShadowSku=0&rid=0&fold=1\n",
      "第6页爬取成功\n",
      "正在爬取第7页,url为:https://club.jd.com/comment/productPageComments.action?productId=10046783867803&score=0&sortType=5&page=7&pageSize=10&isShadowSku=0&rid=0&fold=1\n",
      "第7页爬取成功\n",
      "正在爬取第8页,url为:https://club.jd.com/comment/productPageComments.action?productId=10046783867803&score=0&sortType=5&page=8&pageSize=10&isShadowSku=0&rid=0&fold=1\n",
      "第8页爬取成功\n",
      "正在爬取第9页,url为:https://club.jd.com/comment/productPageComments.action?productId=10046783867803&score=0&sortType=5&page=9&pageSize=10&isShadowSku=0&rid=0&fold=1\n",
      "第9页爬取成功\n",
      "正在爬取第10页,url为:https://club.jd.com/comment/productPageComments.action?productId=10046783867803&score=0&sortType=5&page=10&pageSize=10&isShadowSku=0&rid=0&fold=1\n",
      "第10页爬取成功\n",
      "正在爬取第11页,url为:https://club.jd.com/comment/productPageComments.action?productId=10046783867803&score=0&sortType=5&page=11&pageSize=10&isShadowSku=0&rid=0&fold=1\n",
      "第11页爬取成功\n",
      "正在爬取第12页,url为:https://club.jd.com/comment/productPageComments.action?productId=10046783867803&score=0&sortType=5&page=12&pageSize=10&isShadowSku=0&rid=0&fold=1\n",
      "第12页爬取成功\n",
      "正在爬取第13页,url为:https://club.jd.com/comment/productPageComments.action?productId=10046783867803&score=0&sortType=5&page=13&pageSize=10&isShadowSku=0&rid=0&fold=1\n",
      "第13页爬取成功\n",
      "正在爬取第14页,url为:https://club.jd.com/comment/productPageComments.action?productId=10046783867803&score=0&sortType=5&page=14&pageSize=10&isShadowSku=0&rid=0&fold=1\n",
      "第14页爬取成功\n",
      "正在爬取第15页,url为:https://club.jd.com/comment/productPageComments.action?productId=10046783867803&score=0&sortType=5&page=15&pageSize=10&isShadowSku=0&rid=0&fold=1\n",
      "第15页爬取成功\n",
      "正在爬取第16页,url为:https://club.jd.com/comment/productPageComments.action?productId=10046783867803&score=0&sortType=5&page=16&pageSize=10&isShadowSku=0&rid=0&fold=1\n",
      "第16页爬取成功\n",
      "正在爬取第17页,url为:https://club.jd.com/comment/productPageComments.action?productId=10046783867803&score=0&sortType=5&page=17&pageSize=10&isShadowSku=0&rid=0&fold=1\n",
      "第17页爬取成功\n",
      "正在爬取第18页,url为:https://club.jd.com/comment/productPageComments.action?productId=10046783867803&score=0&sortType=5&page=18&pageSize=10&isShadowSku=0&rid=0&fold=1\n",
      "第18页爬取成功\n",
      "正在爬取第19页,url为:https://club.jd.com/comment/productPageComments.action?productId=10046783867803&score=0&sortType=5&page=19&pageSize=10&isShadowSku=0&rid=0&fold=1\n",
      "第19页爬取成功\n",
      "正在爬取第20页,url为:https://club.jd.com/comment/productPageComments.action?productId=10046783867803&score=0&sortType=5&page=20&pageSize=10&isShadowSku=0&rid=0&fold=1\n",
      "第20页爬取成功\n",
      "正在爬取第21页,url为:https://club.jd.com/comment/productPageComments.action?productId=10046783867803&score=0&sortType=5&page=21&pageSize=10&isShadowSku=0&rid=0&fold=1\n",
      "第21页爬取成功\n",
      "正在爬取第22页,url为:https://club.jd.com/comment/productPageComments.action?productId=10046783867803&score=0&sortType=5&page=22&pageSize=10&isShadowSku=0&rid=0&fold=1\n",
      "第22页爬取成功\n",
      "正在爬取第23页,url为:https://club.jd.com/comment/productPageComments.action?productId=10046783867803&score=0&sortType=5&page=23&pageSize=10&isShadowSku=0&rid=0&fold=1\n",
      "第23页爬取成功\n",
      "正在爬取第24页,url为:https://club.jd.com/comment/productPageComments.action?productId=10046783867803&score=0&sortType=5&page=24&pageSize=10&isShadowSku=0&rid=0&fold=1\n",
      "第24页爬取成功\n",
      "正在爬取第25页,url为:https://club.jd.com/comment/productPageComments.action?productId=10046783867803&score=0&sortType=5&page=25&pageSize=10&isShadowSku=0&rid=0&fold=1\n",
      "第25页爬取成功\n",
      "正在爬取第26页,url为:https://club.jd.com/comment/productPageComments.action?productId=10046783867803&score=0&sortType=5&page=26&pageSize=10&isShadowSku=0&rid=0&fold=1\n",
      "第26页爬取成功\n",
      "正在爬取第27页,url为:https://club.jd.com/comment/productPageComments.action?productId=10046783867803&score=0&sortType=5&page=27&pageSize=10&isShadowSku=0&rid=0&fold=1\n",
      "第27页爬取成功\n",
      "正在爬取第28页,url为:https://club.jd.com/comment/productPageComments.action?productId=10046783867803&score=0&sortType=5&page=28&pageSize=10&isShadowSku=0&rid=0&fold=1\n",
      "第28页爬取成功\n",
      "正在爬取第29页,url为:https://club.jd.com/comment/productPageComments.action?productId=10046783867803&score=0&sortType=5&page=29&pageSize=10&isShadowSku=0&rid=0&fold=1\n",
      "第29页爬取成功\n",
      "正在爬取第30页,url为:https://club.jd.com/comment/productPageComments.action?productId=10046783867803&score=0&sortType=5&page=30&pageSize=10&isShadowSku=0&rid=0&fold=1\n",
      "第30页爬取成功\n",
      "正在爬取第31页,url为:https://club.jd.com/comment/productPageComments.action?productId=10046783867803&score=0&sortType=5&page=31&pageSize=10&isShadowSku=0&rid=0&fold=1\n",
      "第31页爬取成功\n",
      "正在爬取第32页,url为:https://club.jd.com/comment/productPageComments.action?productId=10046783867803&score=0&sortType=5&page=32&pageSize=10&isShadowSku=0&rid=0&fold=1\n",
      "第32页爬取成功\n",
      "正在爬取第33页,url为:https://club.jd.com/comment/productPageComments.action?productId=10046783867803&score=0&sortType=5&page=33&pageSize=10&isShadowSku=0&rid=0&fold=1\n",
      "第33页爬取成功\n",
      "正在爬取第34页,url为:https://club.jd.com/comment/productPageComments.action?productId=10046783867803&score=0&sortType=5&page=34&pageSize=10&isShadowSku=0&rid=0&fold=1\n",
      "第34页爬取成功\n"
     ]
    }
   ],
   "source": [
    "# 创建excel保存数据\n",
    "file = xlwt.Workbook(encoding='utf-8')\n",
    "sheet = file.add_sheet('data', cell_overwrite_ok=True)\n",
    "for i in range(35):  # for循环遍历，批量爬取评论信息\n",
    "        # 构造url，通过在网页不断点击下一页发现，url中只有page后数字随页数变化，批量遍历就是根据这个\n",
    "        # url去掉了callback部分，因为这部分内没有有用数据，并且不去掉后面转换为json格式会有问题\n",
    "    url = 'https://club.jd.com/comment/productPageComments.action?productId=10046783867803&score=0&sortType=5&page=%s&pageSize=10&isShadowSku=0&rid=0&fold=1' % i\n",
    "    # 构造headers\n",
    "    headers = {\n",
    "        'user-agent': 'Mozilla/5.0 (Macintosh; Intel Mac OS X 10_15_7) AppleWebKit/537.36 (KHTML, like Gecko) Chrome/96.0.4664.110 Safari/537.36',\n",
    "        'referer': 'https://item.jd.com/10046783867803.html',\n",
    "    }\n",
    "    response = requests.get(url, headers=headers).json()    # 字符串转换为json数据\n",
    "    data = response[\"comments\"] \n",
    "    # print(data)\n",
    "    print('正在爬取第%s页,url为:%s' %(i,url))    # print(data)\n",
    "    page = (i * 10)+1 # 这里是存储在excell中用到的，因为每爬取一个url会有10条评论，占excell 10列\n",
    "    if (data):\n",
    "        col = (\"用户ID\", \"评论内容\", \"手机型号\")\n",
    "        for a in range(0, 3):\n",
    "            sheet.write(0, a, col[a])  # 列名\n",
    "        for temp in data:\n",
    "            sheet.write(page, 0, temp['id'])  # id\n",
    "            sheet.write(page, 1, temp['content'])  # 评论\n",
    "            sheet.write(page, 2, temp['referenceName']) # 手机型号\n",
    "            page = page + 1\n",
    "        print('第%s页爬取成功' % i)\n",
    "    else:\n",
    "        print('.............第%s页爬取失败' % i)\n",
    "        exit\n",
    "    file.save('Redmi2.xlsx')  # 保存到本地\n",
    "    time.sleep(random.random() * 5)  # 每循环一次，随机时间暂停再爬\n",
    "    data2 = pd.DataFrame(pd.read_excel('Redmi2.xlsx'))\n",
    "    Redmi_Comment2 = data2.to_csv('Redmi_Comment2.csv',encoding='gbk')\n"
   ]
  },
  {
   "cell_type": "code",
   "execution_count": 31,
   "metadata": {},
   "outputs": [],
   "source": [
    "data = pd.concat([data1,data2],axis=0)\n",
    "Redmi_Comment_all = data.to_csv('Redmi_Comment_all.csv',encoding='gbk')"
   ]
  },
  {
   "cell_type": "markdown",
   "metadata": {},
   "source": [
    "#### 二、统计分析词云"
   ]
  },
  {
   "cell_type": "code",
   "execution_count": 128,
   "metadata": {},
   "outputs": [],
   "source": [
    "import jieba \n",
    "import wordcloud \n",
    "import pandas as pd\n",
    "import matplotlib.pyplot as plt\n",
    "import numpy as np\n",
    "from os import path\n",
    "from PIL import Image\n",
    "from wordcloud import WordCloud,ImageColorGenerator"
   ]
  },
  {
   "cell_type": "code",
   "execution_count": 130,
   "metadata": {},
   "outputs": [
    {
     "data": {
      "text/html": [
       "<div>\n",
       "<style scoped>\n",
       "    .dataframe tbody tr th:only-of-type {\n",
       "        vertical-align: middle;\n",
       "    }\n",
       "\n",
       "    .dataframe tbody tr th {\n",
       "        vertical-align: top;\n",
       "    }\n",
       "\n",
       "    .dataframe thead th {\n",
       "        text-align: right;\n",
       "    }\n",
       "</style>\n",
       "<table border=\"1\" class=\"dataframe\">\n",
       "  <thead>\n",
       "    <tr style=\"text-align: right;\">\n",
       "      <th></th>\n",
       "      <th>评论内容</th>\n",
       "    </tr>\n",
       "  </thead>\n",
       "  <tbody>\n",
       "    <tr>\n",
       "      <th>0</th>\n",
       "      <td>外形外观：很美观，喜欢，\\n屏幕音效：不愧是2k屏幕，非常清晰，不辣眼睛，看着舒服了。\\n拍...</td>\n",
       "    </tr>\n",
       "    <tr>\n",
       "      <th>1</th>\n",
       "      <td>外形外观：真的很不赖，手感也舒服\\n屏幕音效：很不错，听起来不怪就行\\n运行速度：很快，比我...</td>\n",
       "    </tr>\n",
       "    <tr>\n",
       "      <th>2</th>\n",
       "      <td>外形外观：外观稳重大气，手机后壳的陨石图案非常酷炫。\\n屏幕音效： 上下双喇叭看电影放歌曲，...</td>\n",
       "    </tr>\n",
       "    <tr>\n",
       "      <th>3</th>\n",
       "      <td>外形外观：整体外观还不错，手感也还行吧\\n屏幕音效：双扬声器看视频不错\\n拍照效果：一般\\n...</td>\n",
       "    </tr>\n",
       "    <tr>\n",
       "      <th>4</th>\n",
       "      <td>细节非常完美，整体来说真的很不错。性价比很高，下载软件的时候 明显温度低很多 运行也比较流畅...</td>\n",
       "    </tr>\n",
       "  </tbody>\n",
       "</table>\n",
       "</div>"
      ],
      "text/plain": [
       "                                                评论内容\n",
       "0  外形外观：很美观，喜欢，\\n屏幕音效：不愧是2k屏幕，非常清晰，不辣眼睛，看着舒服了。\\n拍...\n",
       "1  外形外观：真的很不赖，手感也舒服\\n屏幕音效：很不错，听起来不怪就行\\n运行速度：很快，比我...\n",
       "2  外形外观：外观稳重大气，手机后壳的陨石图案非常酷炫。\\n屏幕音效： 上下双喇叭看电影放歌曲，...\n",
       "3  外形外观：整体外观还不错，手感也还行吧\\n屏幕音效：双扬声器看视频不错\\n拍照效果：一般\\n...\n",
       "4  细节非常完美，整体来说真的很不错。性价比很高，下载软件的时候 明显温度低很多 运行也比较流畅..."
      ]
     },
     "execution_count": 130,
     "metadata": {},
     "output_type": "execute_result"
    }
   ],
   "source": [
    "rank = []\n",
    "img = Image.open('PokeMon.jpg')\n",
    "shape = np.array(img)\n",
    "df = pd.read_csv('Redmi_Comment_all.csv',encoding='gbk')[['评论内容']]\n",
    "df.head(5)"
   ]
  },
  {
   "cell_type": "code",
   "execution_count": 131,
   "metadata": {},
   "outputs": [
    {
     "name": "stdout",
     "output_type": "stream",
     "text": [
      "1250\n"
     ]
    }
   ],
   "source": [
    "#删除默认评价\n",
    "df.drop(df[df['评论内容']==\"此用户未填写评价内容\"].index,inplace=True)\n",
    "print(len(df[df['评论内容']!=\"\"])) #统计有效评论数\n",
    "#导入数据\n",
    "data = df['评论内容']\n",
    "data_str = ''\n",
    "for i in range(len(data)):\n",
    "    data_str = data_str + str(df.iloc[i,0])"
   ]
  },
  {
   "cell_type": "code",
   "execution_count": 132,
   "metadata": {},
   "outputs": [],
   "source": [
    "with open(\"stopwords.txt\") as f: \n",
    "    stopwords = f.read() \n",
    "    wordlist = jieba.lcut(data_str)\n",
    "    words = str()\n",
    "    for word in wordlist: \n",
    "        if len(word)>1 and word not in stopwords: \n",
    "            words = words + ',' + word\n",
    "        else:\n",
    "            pass"
   ]
  },
  {
   "cell_type": "code",
   "execution_count": 133,
   "metadata": {},
   "outputs": [],
   "source": [
    "# 生成词云\n",
    "wc = wordcloud.WordCloud(\n",
    "    background_color='white', # 设置背景颜色\n",
    "    font_path='/System/Library/Fonts/msyh.ttc', # 设置字体格式\n",
    "    width=800,\n",
    "    height=800,\n",
    "    random_state=30,\n",
    "    mask=shape, # 设置背景图\n",
    "    max_words=200, # 最多显示词数\n",
    "    max_font_size=100 , # 字体最大值\n",
    "    scale=32  # 调整图片清晰度，值越大越清楚\n",
    ")"
   ]
  },
  {
   "cell_type": "code",
   "execution_count": 134,
   "metadata": {},
   "outputs": [],
   "source": [
    "words = words.replace('手机','');"
   ]
  },
  {
   "cell_type": "code",
   "execution_count": 135,
   "metadata": {},
   "outputs": [
    {
     "data": {
      "image/png": "[encoded data removed]",
      "text/plain": [
       "<Figure size 1600x800 with 1 Axes>"
      ]
     },
     "metadata": {
      "needs_background": "light"
     },
     "output_type": "display_data"
    }
   ],
   "source": [
    "wc.generate(words)\n",
    "wc.to_file(\"词云图.png\")\n",
    "#显示词云\n",
    "plt.figure(figsize=(8,4),dpi=200)\n",
    "plt.imshow(wc)\n",
    "plt.axis(\"off\")\n",
    "plt.show()"
   ]
  },
  {
   "cell_type": "markdown",
   "metadata": {},
   "source": [
    "#### 三、情感分析"
   ]
  },
  {
   "cell_type": "code",
   "execution_count": 7,
   "metadata": {},
   "outputs": [],
   "source": [
    "from snownlp import SnowNLP \n",
    "from snownlp import sentiment \n",
    "import pandas as pd \n",
    "import matplotlib.pyplot as plt"
   ]
  },
  {
   "cell_type": "code",
   "execution_count": 41,
   "metadata": {},
   "outputs": [
    {
     "data": {
      "text/html": [
       "<div>\n",
       "<style scoped>\n",
       "    .dataframe tbody tr th:only-of-type {\n",
       "        vertical-align: middle;\n",
       "    }\n",
       "\n",
       "    .dataframe tbody tr th {\n",
       "        vertical-align: top;\n",
       "    }\n",
       "\n",
       "    .dataframe thead th {\n",
       "        text-align: right;\n",
       "    }\n",
       "</style>\n",
       "<table border=\"1\" class=\"dataframe\">\n",
       "  <thead>\n",
       "    <tr style=\"text-align: right;\">\n",
       "      <th></th>\n",
       "      <th>评论内容</th>\n",
       "    </tr>\n",
       "  </thead>\n",
       "  <tbody>\n",
       "    <tr>\n",
       "      <th>count</th>\n",
       "      <td>1240</td>\n",
       "    </tr>\n",
       "    <tr>\n",
       "      <th>unique</th>\n",
       "      <td>1230</td>\n",
       "    </tr>\n",
       "    <tr>\n",
       "      <th>top</th>\n",
       "      <td>该用户觉得商品不错</td>\n",
       "    </tr>\n",
       "    <tr>\n",
       "      <th>freq</th>\n",
       "      <td>10</td>\n",
       "    </tr>\n",
       "  </tbody>\n",
       "</table>\n",
       "</div>"
      ],
      "text/plain": [
       "             评论内容\n",
       "count        1240\n",
       "unique       1230\n",
       "top     该用户觉得商品不错\n",
       "freq           10"
      ]
     },
     "execution_count": 41,
     "metadata": {},
     "output_type": "execute_result"
    }
   ],
   "source": [
    "#导⼊样例数据，读取⽂本数据 \n",
    "emo = pd.read_csv('Redmi_Comment_all.csv',encoding='gbk')[['评论内容']]\n",
    "#查看数据情况\n",
    "emo.describe()"
   ]
  },
  {
   "cell_type": "code",
   "execution_count": 42,
   "metadata": {},
   "outputs": [
    {
     "name": "stdout",
     "output_type": "stream",
     "text": [
      "1250\n"
     ]
    }
   ],
   "source": [
    "print(len(emo[emo['评论内容']!=\"\"])) #统计有效评论数"
   ]
  },
  {
   "cell_type": "code",
   "execution_count": 43,
   "metadata": {},
   "outputs": [],
   "source": [
    "cotent = emo['评论内容']"
   ]
  },
  {
   "cell_type": "code",
   "execution_count": 48,
   "metadata": {},
   "outputs": [],
   "source": [
    "values = list()\n",
    "for i in emo['评论内容']:\n",
    "    values.append(SnowNLP(str(i)).sentiments)"
   ]
  },
  {
   "cell_type": "code",
   "execution_count": 50,
   "metadata": {},
   "outputs": [],
   "source": [
    "#输出积极的概率，⼤于0.5积极的，⼩于0.5消极的\n",
    "#myval保存预测值 \n",
    "myval=[] \n",
    "good=0 \n",
    "bad=0 \n",
    "for i in values: \n",
    "    if (i>=0.5): \n",
    "        myval.append(\"正⾯\") \n",
    "        good=good+1 \n",
    "    else:\n",
    "        myval.append(\"负⾯\")\n",
    "        bad=bad+1\n",
    "    \n",
    "    \n",
    " "
   ]
  },
  {
   "cell_type": "code",
   "execution_count": 52,
   "metadata": {},
   "outputs": [],
   "source": [
    "emo['预测值']=values\n",
    "emo['评价类别']=myval"
   ]
  },
  {
   "cell_type": "code",
   "execution_count": 65,
   "metadata": {},
   "outputs": [
    {
     "data": {
      "text/html": [
       "<div>\n",
       "<style scoped>\n",
       "    .dataframe tbody tr th:only-of-type {\n",
       "        vertical-align: middle;\n",
       "    }\n",
       "\n",
       "    .dataframe tbody tr th {\n",
       "        vertical-align: top;\n",
       "    }\n",
       "\n",
       "    .dataframe thead th {\n",
       "        text-align: right;\n",
       "    }\n",
       "</style>\n",
       "<table border=\"1\" class=\"dataframe\">\n",
       "  <thead>\n",
       "    <tr style=\"text-align: right;\">\n",
       "      <th></th>\n",
       "      <th>评论内容</th>\n",
       "      <th>预测值</th>\n",
       "      <th>评价类别</th>\n",
       "    </tr>\n",
       "  </thead>\n",
       "  <tbody>\n",
       "    <tr>\n",
       "      <th>0</th>\n",
       "      <td>外形外观：很美观，喜欢，\\n屏幕音效：不愧是2k屏幕，非常清晰，不辣眼睛，看着舒服了。\\n拍...</td>\n",
       "      <td>1.000000e+00</td>\n",
       "      <td>正⾯</td>\n",
       "    </tr>\n",
       "    <tr>\n",
       "      <th>1</th>\n",
       "      <td>外形外观：真的很不赖，手感也舒服\\n屏幕音效：很不错，听起来不怪就行\\n运行速度：很快，比我...</td>\n",
       "      <td>1.000000e+00</td>\n",
       "      <td>正⾯</td>\n",
       "    </tr>\n",
       "    <tr>\n",
       "      <th>2</th>\n",
       "      <td>外形外观：外观稳重大气，手机后壳的陨石图案非常酷炫。\\n屏幕音效： 上下双喇叭看电影放歌曲，...</td>\n",
       "      <td>1.000000e+00</td>\n",
       "      <td>正⾯</td>\n",
       "    </tr>\n",
       "    <tr>\n",
       "      <th>3</th>\n",
       "      <td>外形外观：整体外观还不错，手感也还行吧\\n屏幕音效：双扬声器看视频不错\\n拍照效果：一般\\n...</td>\n",
       "      <td>1.000000e+00</td>\n",
       "      <td>正⾯</td>\n",
       "    </tr>\n",
       "    <tr>\n",
       "      <th>4</th>\n",
       "      <td>细节非常完美，整体来说真的很不错。性价比很高，下载软件的时候 明显温度低很多 运行也比较流畅...</td>\n",
       "      <td>9.999986e-01</td>\n",
       "      <td>正⾯</td>\n",
       "    </tr>\n",
       "    <tr>\n",
       "      <th>5</th>\n",
       "      <td>外形外观：紅米K50 Pro的外觀在背蓋質感較佳，墨羽色為橄欖隕石紋理，隨著不同角度會有各種...</td>\n",
       "      <td>6.661338e-16</td>\n",
       "      <td>负⾯</td>\n",
       "    </tr>\n",
       "    <tr>\n",
       "      <th>6</th>\n",
       "      <td>外形外观：喜欢这个墨羽色  花纹好好看?\\n\\n屏幕音效：2k屏幕贼清晰   跟双扬声器看剧...</td>\n",
       "      <td>9.994911e-01</td>\n",
       "      <td>正⾯</td>\n",
       "    </tr>\n",
       "    <tr>\n",
       "      <th>7</th>\n",
       "      <td>屏幕音效：2k屏幕不是盖的，非常清晰，色彩还原度高\\n拍照效果：拍照速度很快，拍照清晰够用\\...</td>\n",
       "      <td>1.000000e+00</td>\n",
       "      <td>正⾯</td>\n",
       "    </tr>\n",
       "    <tr>\n",
       "      <th>8</th>\n",
       "      <td>外观：手机外观无任何瑕疵，完美，银色看上去很高大上，手感也很好，主要是三星2K屏幕，很高清&amp;...</td>\n",
       "      <td>1.000000e+00</td>\n",
       "      <td>正⾯</td>\n",
       "    </tr>\n",
       "    <tr>\n",
       "      <th>9</th>\n",
       "      <td>新买的k50pro，感觉很不错，2k屏幕?120w很给力，主要是电池续航十分给力，手里的iq...</td>\n",
       "      <td>9.999997e-01</td>\n",
       "      <td>正⾯</td>\n",
       "    </tr>\n",
       "  </tbody>\n",
       "</table>\n",
       "</div>"
      ],
      "text/plain": [
       "                                                评论内容           预测值 评价类别\n",
       "0  外形外观：很美观，喜欢，\\n屏幕音效：不愧是2k屏幕，非常清晰，不辣眼睛，看着舒服了。\\n拍...  1.000000e+00   正⾯\n",
       "1  外形外观：真的很不赖，手感也舒服\\n屏幕音效：很不错，听起来不怪就行\\n运行速度：很快，比我...  1.000000e+00   正⾯\n",
       "2  外形外观：外观稳重大气，手机后壳的陨石图案非常酷炫。\\n屏幕音效： 上下双喇叭看电影放歌曲，...  1.000000e+00   正⾯\n",
       "3  外形外观：整体外观还不错，手感也还行吧\\n屏幕音效：双扬声器看视频不错\\n拍照效果：一般\\n...  1.000000e+00   正⾯\n",
       "4  细节非常完美，整体来说真的很不错。性价比很高，下载软件的时候 明显温度低很多 运行也比较流畅...  9.999986e-01   正⾯\n",
       "5  外形外观：紅米K50 Pro的外觀在背蓋質感較佳，墨羽色為橄欖隕石紋理，隨著不同角度會有各種...  6.661338e-16   负⾯\n",
       "6  外形外观：喜欢这个墨羽色  花纹好好看?\\n\\n屏幕音效：2k屏幕贼清晰   跟双扬声器看剧...  9.994911e-01   正⾯\n",
       "7  屏幕音效：2k屏幕不是盖的，非常清晰，色彩还原度高\\n拍照效果：拍照速度很快，拍照清晰够用\\...  1.000000e+00   正⾯\n",
       "8  外观：手机外观无任何瑕疵，完美，银色看上去很高大上，手感也很好，主要是三星2K屏幕，很高清&...  1.000000e+00   正⾯\n",
       "9  新买的k50pro，感觉很不错，2k屏幕?120w很给力，主要是电池续航十分给力，手里的iq...  9.999997e-01   正⾯"
      ]
     },
     "execution_count": 65,
     "metadata": {},
     "output_type": "execute_result"
    }
   ],
   "source": [
    "emo.head(10)"
   ]
  },
  {
   "cell_type": "code",
   "execution_count": 62,
   "metadata": {},
   "outputs": [
    {
     "data": {
      "text/plain": [
       "count    1.250000e+03\n",
       "mean     9.128355e-01\n",
       "std      2.281218e-01\n",
       "min      6.661338e-16\n",
       "25%      9.893261e-01\n",
       "50%      9.999711e-01\n",
       "75%      9.999999e-01\n",
       "max      1.000000e+00\n",
       "Name: 预测值, dtype: float64"
      ]
     },
     "execution_count": 62,
     "metadata": {},
     "output_type": "execute_result"
    }
   ],
   "source": [
    "emo['预测值'].describe()\n"
   ]
  },
  {
   "cell_type": "code",
   "execution_count": 82,
   "metadata": {},
   "outputs": [
    {
     "data": {
      "text/plain": [
       "正⾯    1158\n",
       "负⾯      92\n",
       "Name: 评价类别, dtype: int64"
      ]
     },
     "execution_count": 82,
     "metadata": {},
     "output_type": "execute_result"
    }
   ],
   "source": [
    "emo['评价类别'].value_counts()"
   ]
  },
  {
   "cell_type": "code",
   "execution_count": 97,
   "metadata": {},
   "outputs": [
    {
     "name": "stdout",
     "output_type": "stream",
     "text": [
      "正面评价率为0.9264\n"
     ]
    }
   ],
   "source": [
    "print('正面评价率为{}'.format(1158/1250))"
   ]
  }
 ],
 "metadata": {
  "interpreter": {
   "hash": "0bdc851b2cc2642a469b363029b05acba138739f90c6ed598dc46491bdd48d97"
  },
  "kernelspec": {
   "display_name": "Python 3.7.9 64-bit (windows store)",
   "language": "python",
   "name": "python3"
  },
  "language_info": {
   "codemirror_mode": {
    "name": "ipython",
    "version": 3
   },
   "file_extension": ".py",
   "mimetype": "text/x-python",
   "name": "python",
   "nbconvert_exporter": "python",
   "pygments_lexer": "ipython3",
   "version": "3.7.4"
  },
  "orig_nbformat": 4
 },
 "nbformat": 4,
 "nbformat_minor": 2
}
